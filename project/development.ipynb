{
  "nbformat": 4,
  "nbformat_minor": 0,
  "metadata": {
    "kernelspec": {
      "display_name": "myenv",
      "language": "python",
      "name": "myenv"
    },
    "language_info": {
      "codemirror_mode": {
        "name": "ipython",
        "version": 3
      },
      "file_extension": ".py",
      "mimetype": "text/x-python",
      "name": "python",
      "nbconvert_exporter": "python",
      "pygments_lexer": "ipython3",
      "version": "3.9.7"
    },
    "colab": {
      "name": "development.ipynb",
      "provenance": [],
      "collapsed_sections": []
    }
  },
  "cells": [
    {
      "cell_type": "markdown",
      "metadata": {
        "id": "zSTi80C0_dwp"
      },
      "source": [
        "# 🔥 _DeepFire_: API Project for Fire Detection 🔥\n",
        "\n",
        "In this project, you'll apply your skills at neural network development in a new way: taking a model that you've trained yourself and deploying it to a static webpage that you can work with to upload new images and get prediction accuracy results. \n",
        "\n",
        "This project will primarily focus on your abilities in creating and testing neural network architecture development. \n",
        "\n",
        "#### **Specifically, you'll be creating a convolutional neural network that can ingest Fire Detection Image Data and predict binary class values, similarly to what we've done with multilayer perceptrons in the past.**\n",
        "\n",
        "Boilerplate and supporting architectures have been provided for a multitude of tasks ranging from data preprocessing, processing, ingestion, and predictive assessment – however, major tasks and design work will ultimately be left to you to approach and figure out ideal, optimized solutions. "
      ]
    },
    {
      "cell_type": "markdown",
      "metadata": {
        "id": "fpXBC8KE_dwt"
      },
      "source": [
        "#### 🔹 General Importations\n",
        "\n",
        "As always, we'll start with importing basic tools and functions for our task."
      ]
    },
    {
      "cell_type": "code",
      "metadata": {
        "id": "6iB3dJC2_dwt"
      },
      "source": [
        "import numpy as np\n",
        "import matplotlib.pyplot as plt\n",
        "from sklearn import utils\n",
        "\n",
        "import os, PIL\n",
        "from glob import glob\n",
        "\n",
        "# import tensorflow as tf\n",
        "\n",
        "# print(tf.__version__)"
      ],
      "execution_count": 1,
      "outputs": []
    },
    {
      "cell_type": "code",
      "metadata": {
        "colab": {
          "base_uri": "https://localhost:8080/"
        },
        "id": "GlNaQlDG_dwu",
        "outputId": "d966d04f-f7c7-4a37-8a00-750403052bb8"
      },
      "source": [
        "import tensorflow as tf\n",
        "from tensorflow import keras\n",
        "from tensorflow.keras import layers\n",
        "\n",
        "print(tf.__version__)"
      ],
      "execution_count": 2,
      "outputs": [
        {
          "output_type": "stream",
          "name": "stdout",
          "text": [
            "2.6.0\n"
          ]
        }
      ]
    },
    {
      "cell_type": "markdown",
      "metadata": {
        "id": "yM85muDG_dwu"
      },
      "source": [
        "---\n",
        "\n",
        "#### 🔎 Initializing Deep Learning Tools 🔍\n",
        "\n",
        "---\n",
        "\n",
        "> Your first task will be crucial to ensuring the successful implementation of the rest of your notebook. \n",
        "> \n",
        "> **Initialize each line with the correct function type from the TensorFlow documentation.**\n",
        "> \n",
        "> Feel free to refer throughout the notebook and across previous notebooks to see which TensorFlow architectures you've used for similar tasks. \n",
        "> \n",
        "> To give you a guide for how this should look, you've been provided with a single correct function declaration in the form of `image_dataset_from_directory` at the end of the cell. \n",
        "\n",
        "---"
      ]
    },
    {
      "cell_type": "code",
      "metadata": {
        "id": "VoerGVFm_dwv"
      },
      "source": [
        "\"\"\" Sequential Model Architecture \"\"\"\n",
        "# DONE: Initialize the sequential model architecture here.\n",
        "Sequential = keras.Sequential\n",
        "\n",
        "\"\"\" Data Preprocessing Functions \"\"\"\n",
        "# DONE: Initialize the experimental resizing layer here.\n",
        "Resizing = layers.experimental.preprocessing.Resizing\n",
        "# DONE: Initialize the experimental rescaling layer here.\n",
        "Rescaling = layers.experimental.preprocessing.Rescaling\n",
        "\n",
        "\"\"\" Data Augmentation Functions \"\"\"\n",
        "# DONE: Initialize the experimental random flipping layer here.\n",
        "RandomFlip = layers.experimental.preprocessing.RandomFlip\n",
        "# DONE: Initialize the experimental random rotating layer here.\n",
        "RandomRotation = layers.experimental.preprocessing.RandomRotation\n",
        "# DONE: Initialize the experimental random zooming layer here.\n",
        "RandomZoom = layers.experimental.preprocessing.RandomZoom\n",
        "\n",
        "\"\"\" Artificial Neural Network Layer Inventory \"\"\"\n",
        "# DONE: Initialize the dense connective layer here.\n",
        "Dense = layers.Dense\n",
        "# DONE: Initialize the dropout regularization layer here.\n",
        "Dropout = layers.Dropout\n",
        "\n",
        "\"\"\" Convolutional Neural Network Layer Inventory \"\"\"\n",
        "# DONE: Initialize the 2D convolutional layer here.\n",
        "Conv2D = layers.Conv2D\n",
        "# DONE: Initialize the 2D max pooling layer here.\n",
        "MaxPool2D = layers.MaxPool2D\n",
        "# DONE: Initialize the flattening layer here.\n",
        "Flatten = layers.Flatten\n",
        "\n",
        "\"\"\" Residual Network Layer Inventory \"\"\"\n",
        "# DONE: Initialize the Residual Network multilayer model here.\n",
        "# DONE: Make sure you initialize the 50-layer residual network! \n",
        "# DONE: Look up `ResNet50` for appropriate documentation. \n",
        "ResNet50 = keras.applications.resnet50.ResNet50\n",
        "\n",
        "\"\"\" Function to Load Images from Target Folder \"\"\"\n",
        "image_dataset_from_directory = keras.preprocessing.image_dataset_from_directory"
      ],
      "execution_count": 3,
      "outputs": []
    },
    {
      "cell_type": "markdown",
      "metadata": {
        "id": "FxM-ysWcptIp"
      },
      "source": [
        "Here we navigate to the directory that this notebook exists in."
      ]
    },
    {
      "cell_type": "code",
      "metadata": {
        "colab": {
          "base_uri": "https://localhost:8080/"
        },
        "id": "g0yDMhnrKNFn",
        "outputId": "f5511c46-c308-48e5-c784-91964c4a0063"
      },
      "source": [
        "from google.colab import drive\n",
        "drive.mount('/content/drive')"
      ],
      "execution_count": 4,
      "outputs": [
        {
          "output_type": "stream",
          "name": "stdout",
          "text": [
            "Mounted at /content/drive\n"
          ]
        }
      ]
    },
    {
      "cell_type": "code",
      "metadata": {
        "colab": {
          "base_uri": "https://localhost:8080/"
        },
        "id": "32y86BKNpRyi",
        "outputId": "3b5060d8-50d7-4eb7-c917-50b83aa8db10"
      },
      "source": [
        "%ls"
      ],
      "execution_count": 5,
      "outputs": [
        {
          "output_type": "stream",
          "name": "stdout",
          "text": [
            "\u001b[0m\u001b[01;34mdrive\u001b[0m/  \u001b[01;34msample_data\u001b[0m/\n"
          ]
        }
      ]
    },
    {
      "cell_type": "code",
      "metadata": {
        "colab": {
          "base_uri": "https://localhost:8080/"
        },
        "id": "jiC47hifMm9z",
        "outputId": "ab5c82c4-439f-4a22-fc6e-908b5c0b436d"
      },
      "source": [
        "%cd drive/My Drive/Colab Notebooks/"
      ],
      "execution_count": 6,
      "outputs": [
        {
          "output_type": "stream",
          "name": "stdout",
          "text": [
            "/content/drive/My Drive/Colab Notebooks\n"
          ]
        }
      ]
    },
    {
      "cell_type": "code",
      "metadata": {
        "colab": {
          "base_uri": "https://localhost:8080/"
        },
        "id": "H1iF55hHpoWJ",
        "outputId": "30a3ee3f-5019-4cad-cc67-71e408784b53"
      },
      "source": [
        "%cd DS 2.2/"
      ],
      "execution_count": 7,
      "outputs": [
        {
          "output_type": "stream",
          "name": "stdout",
          "text": [
            "/content/drive/My Drive/Colab Notebooks/DS 2.2\n"
          ]
        }
      ]
    },
    {
      "cell_type": "markdown",
      "metadata": {
        "id": "4Z8UT-D7_dww"
      },
      "source": [
        "#### 🔹 Precheck Image Dataset Sizes\n",
        "\n",
        "If you've followed instructions carefully from the `project/PROJECT.md` instructions, the following dataset directory instantiations should work perfectly. \n",
        "\n",
        "If they do not, double-check to make sure you've saved your dataset to the appropriate location. "
      ]
    },
    {
      "cell_type": "code",
      "metadata": {
        "colab": {
          "base_uri": "https://localhost:8080/"
        },
        "id": "37voYsG4_dww",
        "outputId": "3278cb93-fdbb-48d8-916b-6a9a8e6810a4"
      },
      "source": [
        "# Use the `glob.glob` function to show how many images are in each folder\n",
        "DATA_DIRECTORY = \"./dataset/Images/\"\n",
        "FIRE_IMAGES_PATTERN = f\"{DATA_DIRECTORY}/Fire_Images/*\"\n",
        "NOT_FIRE_IMAGES_PATTERN = f\"{DATA_DIRECTORY}/Normal_Images/*\"\n",
        "\n",
        "print(f\"Number of fire image samples: {len(glob(FIRE_IMAGES_PATTERN))}\")\n",
        "print(f\"Number of non-fire image samples: {len(glob(NOT_FIRE_IMAGES_PATTERN))}\")"
      ],
      "execution_count": 8,
      "outputs": [
        {
          "output_type": "stream",
          "name": "stdout",
          "text": [
            "Number of fire image samples: 541\n",
            "Number of non-fire image samples: 541\n"
          ]
        }
      ]
    },
    {
      "cell_type": "markdown",
      "metadata": {
        "id": "H93m574__dww"
      },
      "source": [
        "#### 🔸 Load Dataset\n",
        "\n",
        "Like we've done previously, let's set our batch size and image dimensions to work seamlessly with our configured model."
      ]
    },
    {
      "cell_type": "code",
      "metadata": {
        "id": "KxUsaNcU_dwx"
      },
      "source": [
        "batch_size = 32\n",
        "IMAGE_HEIGHT = IMAGE_WIDTH = 256"
      ],
      "execution_count": 9,
      "outputs": []
    },
    {
      "cell_type": "code",
      "metadata": {
        "colab": {
          "base_uri": "https://localhost:8080/"
        },
        "id": "YKLF5tOH_dwx",
        "outputId": "2ba05e1d-30a1-4f6f-b7fc-338491d5610f"
      },
      "source": [
        "train = image_dataset_from_directory(\n",
        "    directory=DATA_DIRECTORY,\n",
        "    validation_split=0.2,\n",
        "    subset=\"training\",\n",
        "    seed=42,\n",
        "    image_size=(IMAGE_HEIGHT, IMAGE_WIDTH),\n",
        "    batch_size=batch_size\n",
        ")"
      ],
      "execution_count": 10,
      "outputs": [
        {
          "output_type": "stream",
          "name": "stdout",
          "text": [
            "Found 1082 files belonging to 2 classes.\n",
            "Using 866 files for training.\n"
          ]
        }
      ]
    },
    {
      "cell_type": "code",
      "metadata": {
        "id": "px9Fb8Lt_dwx"
      },
      "source": [
        "class_names = train.class_names"
      ],
      "execution_count": 11,
      "outputs": []
    },
    {
      "cell_type": "code",
      "metadata": {
        "colab": {
          "base_uri": "https://localhost:8080/"
        },
        "id": "TiZEItkF_dwx",
        "outputId": "801f7330-8873-4abb-ba32-2ee3fe08ac08"
      },
      "source": [
        "validation = image_dataset_from_directory(\n",
        "    directory=DATA_DIRECTORY,\n",
        "    validation_split=0.2,\n",
        "    subset=\"validation\",\n",
        "    seed=42,\n",
        "    image_size=(IMAGE_HEIGHT, IMAGE_WIDTH),\n",
        "    batch_size=batch_size\n",
        ")"
      ],
      "execution_count": 12,
      "outputs": [
        {
          "output_type": "stream",
          "name": "stdout",
          "text": [
            "Found 1082 files belonging to 2 classes.\n",
            "Using 216 files for validation.\n"
          ]
        }
      ]
    },
    {
      "cell_type": "markdown",
      "metadata": {
        "id": "oKQ0iWmT_dwy"
      },
      "source": [
        "From these results, we can actually see that we have a major class imbalance with our fire images representing our minority class. \n",
        "\n",
        "Let's go ahead and fix that by resampling our dataset. "
      ]
    },
    {
      "cell_type": "markdown",
      "metadata": {
        "id": "tPG95htY_dwy"
      },
      "source": [
        "#### 🔹 Resample (Oversample) Minority Class"
      ]
    },
    {
      "cell_type": "code",
      "metadata": {
        "id": "oWpm7r7h_dwy"
      },
      "source": [
        "def resample_class_distribution(train, DATA_DIRECTORY=DATA_DIRECTORY, save=True):\n",
        "    \"\"\" Helper function to resample class distribution for image dataset. \"\"\"\n",
        "    minority_class, majority_class = list(), list()\n",
        "    for images, labels, in train.take(3):\n",
        "        for image, label in zip(images, labels):\n",
        "            if label == 0:\n",
        "                minority_class.append(image.numpy().astype(np.uint8))\n",
        "            else:\n",
        "                majority_class.append(image.numpy().astype(np.uint8))\n",
        "    FIRE_SIZE = len(glob(f\"{DATA_DIRECTORY}/Fire_Images/*\"))\n",
        "    NOT_FIRE_SIZE = len(glob(f\"{DATA_DIRECTORY}/Normal_Images/*\"))\n",
        "    upsampled_images = np.array(utils.resample(minority_class, replace=True, \n",
        "                                               n_samples=(NOT_FIRE_SIZE - FIRE_SIZE),\n",
        "                                               random_state=42))\n",
        "    if save == True:\n",
        "        index = 0\n",
        "        for image in upsampled_images:\n",
        "            PATH = f\"{DATA_DIRECTORY}/Fire_Images/new_fire_{index}.png\"\n",
        "            PIL.Image.fromarray(image).save(PATH)\n",
        "            index += 1"
      ],
      "execution_count": 13,
      "outputs": []
    },
    {
      "cell_type": "code",
      "metadata": {
        "id": "a2Pz0vZk_dwz"
      },
      "source": [
        "resample_class_distribution(train)"
      ],
      "execution_count": 14,
      "outputs": []
    },
    {
      "cell_type": "markdown",
      "metadata": {
        "id": "knDqaQS7_dwz"
      },
      "source": [
        "You should now see that additional images have been generated to balance out both classes prior to predictive modeling.\n",
        "\n",
        "**Go ahead and re-run the `Load Dataset` steps to see new generated dataset changes.**"
      ]
    },
    {
      "cell_type": "markdown",
      "metadata": {
        "id": "x-uDlnuU_dwz"
      },
      "source": [
        "#### 🔹 Pre-Optimize Image File Ingestion\n",
        "\n",
        "This is an accessory step to optimize image data ingestion at the cost of slightly higher memory usage. No modifications are required for this function. "
      ]
    },
    {
      "cell_type": "code",
      "metadata": {
        "id": "7OirvBjM_dwz"
      },
      "source": [
        "def configure_performant_datasets(dataset, shuffling=None):\n",
        "    \"\"\" \n",
        "    Custom function to prefetch and cache stored elements\n",
        "    of retrieved image data to boost latency and performance\n",
        "    at the cost of higher memory usage. \n",
        "    \"\"\"\n",
        "    AUTOTUNE = tf.data.AUTOTUNE\n",
        "    # Cache and prefetch elements of input data for boosted performance\n",
        "    if not shuffling:\n",
        "        return dataset.cache().prefetch(buffer_size=AUTOTUNE)\n",
        "    else:\n",
        "        return dataset.cache().shuffle(shuffling).prefetch(buffer_size=AUTOTUNE)"
      ],
      "execution_count": 15,
      "outputs": []
    },
    {
      "cell_type": "code",
      "metadata": {
        "id": "ZiNMVp1V_dwz"
      },
      "source": [
        "train =         configure_performant_datasets(train, shuffling=1000)\n",
        "validation =    configure_performant_datasets(validation)"
      ],
      "execution_count": 16,
      "outputs": []
    },
    {
      "cell_type": "markdown",
      "metadata": {
        "id": "3aAfDFPs_dw0"
      },
      "source": [
        "---\n",
        "\n",
        "#### 🔎 Create Resizing and Normalization Layers 🔍\n",
        "\n",
        "---\n",
        "\n",
        "> For this task, you'll declare your resizing and normalization layers using the layer architectures that you imported earlier. \n",
        ">\n",
        "> Recall that for this step, we want to accomplish two key tasks: \n",
        "> - Resize all images to the predetermined square image dimensions as indicated by `IMAGE_HEIGHT` and `IMAGE_WIDTH`.\n",
        "> - Scale all images so pixel values are within the range of (0., 1.) rather than the original (0., 255.).\n",
        ">\n",
        "> Additionally, since we're working with colorized image data, we'll want to ensure that our image rescaling/normalization step inputs images as stacks-of-three, since each image channel corresponds to red, green, and blue pixel values. \n",
        ">\n",
        "> As always, refer to previous notebook documentation on image normalization for colorization if you need help.\n",
        "\n",
        "---"
      ]
    },
    {
      "cell_type": "code",
      "metadata": {
        "id": "7QAO8z_B_dw0"
      },
      "source": [
        "resizing_layer = Resizing(IMAGE_HEIGHT, IMAGE_WIDTH)\n",
        "normalization_layer = Rescaling(1./255, \n",
        "                                input_shape=(IMAGE_HEIGHT, \n",
        "                                              IMAGE_WIDTH, \n",
        "                                              3))"
      ],
      "execution_count": 17,
      "outputs": []
    },
    {
      "cell_type": "markdown",
      "metadata": {
        "id": "VENvy-LYAX0I"
      },
      "source": [
        "---\n",
        "\n",
        "#### 🔎 Create Data Augmentation Layers 🔍\n",
        "\n",
        "---\n",
        "\n",
        "> For this task, we augment and iterate on elements of our data to introduce elements of randomness in order to allow our model to better process and extract relevant heuristics across all data.\n",
        ">\n",
        "> Here we emply three different augmentations: flipping images along the horizontal axis, rotating images at varying degrees, and zooming in on parts of images. By augmenting our data, we can inflate our dataset so that our model has more to learn from. \n",
        "\n",
        "---"
      ]
    },
    {
      "cell_type": "code",
      "metadata": {
        "id": "FNHdBxYYIBrz"
      },
      "source": [
        "random_flipping_layer = RandomFlip(\n",
        "    \"horizontal\", \n",
        "    input_shape=(IMAGE_HEIGHT, IMAGE_WIDTH, 3))\n",
        "random_rotation_layer = RandomRotation(0.1)\n",
        "random_zooming_layer = RandomZoom(0.1)"
      ],
      "execution_count": 18,
      "outputs": []
    },
    {
      "cell_type": "markdown",
      "metadata": {
        "id": "CyjQopaw_dw0"
      },
      "source": [
        "---\n",
        "\n",
        "#### 🔎 Neural Network Architecture Creation 🔍\n",
        "\n",
        "---\n",
        "\n",
        "> Now time for the main event! \n",
        "> \n",
        "> Here, you'll be creating and instantiating your model architecture. \n",
        "> \n",
        "> For this assignment, you'll be creating a **Convolutional Neural Network** that can process Fire Detection images for predictive purposes.\n",
        "> \n",
        "> _For this project, you will not be provided guidance as to how to design and implement your CNN architecture._\n",
        "> \n",
        "> Refer to previous notebooks and challenges on CNNs as well as online documentation/resources for how to design CNN models on higher-order images. \n",
        "> \n",
        "> **This is a highly creative step, and there are no wrong answers; however, you will be assessed on your experimentation process and why you choose specific modeling layers, configurations, optimizers, regularizers, and overall design choices.**\n",
        ">\n",
        "> Light boilerplate will be provided to get you started, but as always, use any and all resources at your disposal to finish the job! \n",
        "\n",
        "---"
      ]
    },
    {
      "cell_type": "code",
      "metadata": {
        "colab": {
          "base_uri": "https://localhost:8080/"
        },
        "id": "x3Z8n7Py_dw0",
        "outputId": "6338793b-f4b4-49b0-d1ba-f30160df6ab4"
      },
      "source": [
        "\"\"\" Sequential Model Architecture Setup \"\"\"\n",
        "model = Sequential()\n",
        "\n",
        "\"\"\" CNN Layering Steps \"\"\"\n",
        "# DONE: Instantiate and Add Layers to Create a Functional CNN for Image Recognition.\n",
        "input_layer = layers.InputLayer(input_shape=(IMAGE_HEIGHT, IMAGE_WIDTH, 3))\n",
        "augmentation_layer = keras.Sequential([random_flipping_layer, \n",
        "                                       random_rotation_layer, \n",
        "                                       random_zooming_layer])\n",
        "\n",
        "dense_layer_1 = Dense(256, \n",
        "                      activation=\"relu\")\n",
        "dense_layer_2 = Dense(512, \n",
        "                      activation=\"swish\")\n",
        "output_layer = Dense(1, \n",
        "                     activation=\"sigmoid\")\n",
        "\n",
        "dropout_layer_1 = Dropout(0.25)\n",
        "dropout_layer_2 = Dropout(0.4)\n",
        "dropout_layer_3 = Dropout(0.5)\n",
        "\n",
        "# conv2d_layer_1 = Conv2D(filters=8, \n",
        "#                 kernel_size=(4, 4), \n",
        "#                 padding=\"Same\", \n",
        "#                 activation=\"relu\", \n",
        "#                 input_shape=(256, 256, 8))\n",
        "conv2d_layer_1 = Conv2D(filters=8, \n",
        "                kernel_size=(4, 4), \n",
        "                padding=\"Same\", \n",
        "                activation=\"tanh\")\n",
        "conv2d_layer_2 = Conv2D(filters=8, \n",
        "                kernel_size=(4, 4), \n",
        "                padding=\"Same\", \n",
        "                activation=\"sigmoid\")\n",
        "\n",
        "maxpool2d_layer_1 = MaxPool2D(pool_size=(4, 4), \n",
        "                      strides=(5, 5))\n",
        "maxpool2d_layer_2 = MaxPool2D(pool_size=(2, 2), \n",
        "                      strides=(2, 2))\n",
        "\n",
        "flatten_layer_1 = Flatten()\n",
        "\n",
        "resnet50 = ResNet50(\n",
        "                    include_top=True, weights=None, input_tensor=None,\n",
        "                    input_shape=None, pooling=None, classes=2)\n",
        "\n",
        "\n",
        "# DONE: Be Sure to Use as Many Imported Layers at the Top of the Notebook as Possible. \n",
        "model.add(input_layer)\n",
        "model.add(augmentation_layer)\n",
        "model.add(resizing_layer)\n",
        "model.add(normalization_layer)\n",
        "# Add first convolutional feature mapping process layers\n",
        "model.add(conv2d_layer_1)\n",
        "model.add(maxpool2d_layer_1)\n",
        "# Add second convolutional feature mapping process layers\n",
        "model.add(conv2d_layer_2)\n",
        "model.add(maxpool2d_layer_2)\n",
        "model.add(dropout_layer_1)\n",
        "# Add image vectorization process layer\n",
        "model.add(flatten_layer_1)\n",
        "# Add connective ANN process layers\n",
        "model.add(dense_layer_1)\n",
        "model.add(dropout_layer_2)\n",
        "model.add(dense_layer_2)\n",
        "model.add(dropout_layer_3)\n",
        "# model.add(resnet50)\n",
        "model.add(output_layer)\n",
        "\n",
        "\n",
        "\"\"\" CNN Architecture Summarization \"\"\"\n",
        "# DONE: Save Screenshots of your Model Summaries to put in this Project Subfolder.\n",
        "model.summary()"
      ],
      "execution_count": 50,
      "outputs": [
        {
          "output_type": "stream",
          "name": "stdout",
          "text": [
            "Model: \"sequential_20\"\n",
            "_________________________________________________________________\n",
            "Layer (type)                 Output Shape              Param #   \n",
            "=================================================================\n",
            "sequential_21 (Sequential)   (None, 256, 256, 3)       0         \n",
            "_________________________________________________________________\n",
            "resizing (Resizing)          (None, 256, 256, 3)       0         \n",
            "_________________________________________________________________\n",
            "rescaling (Rescaling)        (None, 256, 256, 3)       0         \n",
            "_________________________________________________________________\n",
            "conv2d_20 (Conv2D)           (None, 256, 256, 8)       392       \n",
            "_________________________________________________________________\n",
            "max_pooling2d_20 (MaxPooling (None, 51, 51, 8)         0         \n",
            "_________________________________________________________________\n",
            "conv2d_21 (Conv2D)           (None, 51, 51, 8)         1032      \n",
            "_________________________________________________________________\n",
            "max_pooling2d_21 (MaxPooling (None, 25, 25, 8)         0         \n",
            "_________________________________________________________________\n",
            "dropout_30 (Dropout)         (None, 25, 25, 8)         0         \n",
            "_________________________________________________________________\n",
            "flatten_10 (Flatten)         (None, 5000)              0         \n",
            "_________________________________________________________________\n",
            "dense_30 (Dense)             (None, 256)               1280256   \n",
            "_________________________________________________________________\n",
            "dropout_31 (Dropout)         (None, 256)               0         \n",
            "_________________________________________________________________\n",
            "dense_31 (Dense)             (None, 512)               131584    \n",
            "_________________________________________________________________\n",
            "dropout_32 (Dropout)         (None, 512)               0         \n",
            "_________________________________________________________________\n",
            "dense_32 (Dense)             (None, 1)                 513       \n",
            "=================================================================\n",
            "Total params: 1,413,777\n",
            "Trainable params: 1,413,777\n",
            "Non-trainable params: 0\n",
            "_________________________________________________________________\n"
          ]
        }
      ]
    },
    {
      "cell_type": "markdown",
      "metadata": {
        "id": "I57E7jq1_dw1"
      },
      "source": [
        "---\n",
        "\n",
        "#### 🔎 Neural Network Configuration 🔍\n",
        "\n",
        "---\n",
        "\n",
        "> For this task, you'll compile your CNN architecture with appropriate parameters for loss calculation, optimization, and accuracy metrics.\n",
        "> \n",
        "> As always, refer to previous notebooks, tutorials, and documentation for best-case parameters to use for image recognition models.\n",
        "\n",
        "---"
      ]
    },
    {
      "cell_type": "code",
      "metadata": {
        "id": "lUDClFDg_dw1"
      },
      "source": [
        "\"\"\" CNN Model Compilation \"\"\"\n",
        "# DONE: Compile Model with Appropriate Loss, Optimizer, and Metrics-Based Parameters\n",
        "model.compile(\n",
        "    loss=\"binary_crossentropy\",\n",
        "    optimizer=\"nadam\",\n",
        "    metrics=[\"accuracy\"]\n",
        ")"
      ],
      "execution_count": 51,
      "outputs": []
    },
    {
      "cell_type": "markdown",
      "metadata": {
        "id": "y-8sbGZM_dw1"
      },
      "source": [
        "---\n",
        "\n",
        "#### 🔎 CNN Model Predictive Fitness 🔍\n",
        "\n",
        "---\n",
        "\n",
        "> For this task, you'll be taking your compiled model and fitting it against your training and validation data.\n",
        "> \n",
        "> Keep in mind that there are several opportunities for further optimizing your workflow with techniques such as batch normalization, generator-based data feeding, etc. \n",
        "> \n",
        "> As always, refer to previous notebooks, tutorials, and documentation for designing model fitness with validation data. \n",
        "\n",
        "---"
      ]
    },
    {
      "cell_type": "code",
      "metadata": {
        "colab": {
          "base_uri": "https://localhost:8080/"
        },
        "id": "B6MrQuaJ_dw1",
        "outputId": "302dde58-5b6c-4452-ba6a-8038ea1b45d8"
      },
      "source": [
        "\"\"\" CNN Model Fitness and History Extraction \"\"\"\n",
        "# TODO: Fit Model Against Training and Validation Data with Appropriate Epochs\n",
        "epochs = 10\n",
        "history = model.fit(train, validation_data=validation, epochs=epochs)"
      ],
      "execution_count": 52,
      "outputs": [
        {
          "output_type": "stream",
          "name": "stdout",
          "text": [
            "Epoch 1/10\n",
            "28/28 [==============================] - 34s 1s/step - loss: 0.9332 - accuracy: 0.5069 - val_loss: 0.6570 - val_accuracy: 0.5509\n",
            "Epoch 2/10\n",
            "28/28 [==============================] - 32s 1s/step - loss: 0.6276 - accuracy: 0.6617 - val_loss: 0.5274 - val_accuracy: 0.7731\n",
            "Epoch 3/10\n",
            "28/28 [==============================] - 32s 1s/step - loss: 0.5499 - accuracy: 0.7460 - val_loss: 0.5119 - val_accuracy: 0.7870\n",
            "Epoch 4/10\n",
            "28/28 [==============================] - 32s 1s/step - loss: 0.5437 - accuracy: 0.7483 - val_loss: 0.4703 - val_accuracy: 0.7917\n",
            "Epoch 5/10\n",
            "28/28 [==============================] - 32s 1s/step - loss: 0.5171 - accuracy: 0.7460 - val_loss: 0.6152 - val_accuracy: 0.5602\n",
            "Epoch 6/10\n",
            "28/28 [==============================] - 32s 1s/step - loss: 0.5387 - accuracy: 0.7691 - val_loss: 0.4621 - val_accuracy: 0.8148\n",
            "Epoch 7/10\n",
            "28/28 [==============================] - 32s 1s/step - loss: 0.4971 - accuracy: 0.7979 - val_loss: 0.4427 - val_accuracy: 0.8148\n",
            "Epoch 8/10\n",
            "28/28 [==============================] - 32s 1s/step - loss: 0.4676 - accuracy: 0.7945 - val_loss: 0.4441 - val_accuracy: 0.8009\n",
            "Epoch 9/10\n",
            "28/28 [==============================] - 32s 1s/step - loss: 0.4645 - accuracy: 0.7910 - val_loss: 0.4362 - val_accuracy: 0.8009\n",
            "Epoch 10/10\n",
            "28/28 [==============================] - 32s 1s/step - loss: 0.4484 - accuracy: 0.7933 - val_loss: 0.3903 - val_accuracy: 0.8102\n"
          ]
        }
      ]
    },
    {
      "cell_type": "markdown",
      "metadata": {
        "id": "QNWAA0PM_dw1"
      },
      "source": [
        "---\n",
        "\n",
        "#### 🔎 CNN Model Evaluation 🔍\n",
        "\n",
        "---\n",
        "\n",
        "> For this task, you'll evaluate your CNN model using the validation dataset in order to calculate overall validation accuracy and loss.\n",
        "> \n",
        "> As always, refer to previous notebooks, tutorials, and documentation for using the proper evaluation function for model prediction. \n",
        "\n",
        "---"
      ]
    },
    {
      "cell_type": "code",
      "metadata": {
        "colab": {
          "base_uri": "https://localhost:8080/"
        },
        "id": "ddF8UQ1B_dw1",
        "outputId": "3c23814a-b958-4d37-994b-6b4c4fd64696"
      },
      "source": [
        "\"\"\" CNN Model Predictive Evaluation \"\"\"\n",
        "# TODO: Evaluate Model Against Validation Dataset\n",
        "\t# _, train_acc = model.evaluate(X_train, y_train, verbose=0)\n",
        "\t# _, test_acc = model.evaluate(X_test, y_test, verbose=0)\n",
        "\t# print('Param: %f, Train: %.3f, Test: %.3f' % (param, train_acc, test_acc))\n",
        "model.evaluate(validation)"
      ],
      "execution_count": 54,
      "outputs": [
        {
          "output_type": "stream",
          "name": "stdout",
          "text": [
            "7/7 [==============================] - 2s 275ms/step - loss: 0.3903 - accuracy: 0.8102\n"
          ]
        },
        {
          "output_type": "execute_result",
          "data": {
            "text/plain": [
              "[0.39026939868927, 0.8101851940155029]"
            ]
          },
          "metadata": {},
          "execution_count": 54
        }
      ]
    },
    {
      "cell_type": "markdown",
      "metadata": {
        "id": "0B-rnL4G_dw2"
      },
      "source": [
        "#### 🔹 Model State Saving\n",
        "\n",
        "When you are satisfied with your model state configuration and performance and are ready to export the model's weights and parameters for deployment purposes, simply run the following function! "
      ]
    },
    {
      "cell_type": "code",
      "metadata": {
        "id": "Xwt3S6Fg8APh"
      },
      "source": [
        "def save_model(model, file_name, save_format):\n",
        "    \"\"\" \n",
        "    Save the model weights and architecture.\n",
        "    \n",
        "    Parameters: \n",
        "       model(Model): keras Model object being saved\n",
        "       file_name(str): name of the Hadoop file where\n",
        "                       the whole model will be saved\n",
        "       save_format(str): Indicates whether to save the model to the default\n",
        "                         SavedModel('tf'), or HDF5('h5'), or \n",
        "                         use both H5 and JSON ('composite') formats. \n",
        "       Returns: None\n",
        "    \"\"\"\n",
        "    MODEL_DIRECTORY = \"../model\"\n",
        "    def __save_as_composite():\n",
        "      model.save_weights(f'{file_name}_params.h5')\n",
        "      with open(f'{file_name}_layers.json', 'w') as f:\n",
        "          f.write(model.to_json())\n",
        "    \n",
        "    def __save_as_h5():\n",
        "      \"\"\" Option 2: Saving whole model as a single H5 file (more storage) \"\"\"\n",
        "      model.save(f\"{MODEL_DIRECTORY}/{file_name}.h5\", save_format=save_format)\n",
        "\n",
        "    # Call the appropiate save func\n",
        "    if save_format == 'h5':\n",
        "      __save_as_h5()\n",
        "    elif save_format == 'composite':\n",
        "      __save_as_composite()\n",
        "    else:  # save as a SavedModel\n",
        "      model.save(file_name)"
      ],
      "execution_count": 55,
      "outputs": []
    },
    {
      "cell_type": "code",
      "metadata": {
        "id": "ctff4w-G_dw7"
      },
      "source": [
        "save_model(model, \"fire_cnn_classifier\", \"composite\")"
      ],
      "execution_count": 56,
      "outputs": []
    },
    {
      "cell_type": "markdown",
      "metadata": {
        "id": "UjH7iEnV_dw8"
      },
      "source": [
        "Now go ahead and complete the remaining tasks in `project/PROJECT.md` to complete this project successfully! "
      ]
    },
    {
      "cell_type": "markdown",
      "metadata": {
        "id": "LaLM7WRL_dw9"
      },
      "source": [
        "---\n",
        "---\n",
        "---"
      ]
    }
  ]
}